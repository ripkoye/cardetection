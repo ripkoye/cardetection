{
 "cells": [
  {
   "cell_type": "code",
   "execution_count": null,
   "id": "6a054a65",
   "metadata": {},
   "outputs": [
    {
     "name": "stdout",
     "output_type": "stream",
     "text": [
      "(1001, 3, 224, 224)\n",
      "Accuracy on the testing dataset: 11.43%\n"
     ]
    }
   ],
   "source": [
    "from PIL import Image\n",
    "import os\n",
    "import numpy as np\n",
    "import torch\n",
    "from torch.utils.data import DataLoader, TensorDataset\n",
    "from cardetection import CNN, convert_image_to_numpy \n",
    "\n",
    "model = CNN()\n",
    "model.load_state_dict(torch.load('model_weights.pth'))\n",
    "model.eval()  \n",
    "test_images = convert_image_to_numpy(r\"data/testing_images\")\n",
    "test_images = torch.tensor(test_images, dtype=torch.float32) / 255.0  # normalize to [0, 1]\n",
    "test_labels = torch.randint(0, 10, (test_images.shape[0],))  \n",
    "\n",
    "test_dataset = TensorDataset(test_images, test_labels)\n",
    "test_dataloader = DataLoader(test_dataset, batch_size=32, shuffle=False)\n",
    "\n",
    "correct = 0\n",
    "total = 0\n",
    "with torch.no_grad():\n",
    "    for inputs, labels in test_dataloader:\n",
    "        outputs = model(inputs)\n",
    "        _, predicted = torch.max(outputs, 1)  \n",
    "        total += labels.size(0)\n",
    "        correct += (predicted == labels).sum().item()\n",
    "\n",
    "accuracy = correct / total * 100\n",
    "print(f\"Accuracy on the testing dataset: {accuracy:.2f}%\")"
   ]
  }
 ],
 "metadata": {
  "kernelspec": {
   "display_name": "Python 3",
   "language": "python",
   "name": "python3"
  },
  "language_info": {
   "codemirror_mode": {
    "name": "ipython",
    "version": 3
   },
   "file_extension": ".py",
   "mimetype": "text/x-python",
   "name": "python",
   "nbconvert_exporter": "python",
   "pygments_lexer": "ipython3",
   "version": "3.13.2"
  }
 },
 "nbformat": 4,
 "nbformat_minor": 5
}
